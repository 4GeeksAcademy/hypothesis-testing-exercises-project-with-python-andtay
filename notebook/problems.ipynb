{
 "cells": [
  {
   "cell_type": "markdown",
   "id": "d9d036c6",
   "metadata": {},
   "source": [
    "# Hypothesis testing problems"
   ]
  },
  {
   "cell_type": "markdown",
   "id": "d157c4db",
   "metadata": {},
   "source": [
    "## Exercise 1\n",
    "\n",
    "You are a nutritionist researching two different types of diets to see if there is a significant difference in weight loss after one month. You choose two random groups of people; one group follows the first diet, and the other follows the second. At the end of the month, you record the weight loss (in kg) for each person:\n",
    "\n",
    "| Diet 1 | Diet 2 |\n",
    "|:-------|:-------|\n",
    "| 2.0 | 3.0 |\n",
    "| 2.5 | 3.2 |\n",
    "| 3.0 | 3.1 |\n",
    "| 2.8 | 2.9 |\n",
    "| 2.3 | 2.8 |\n",
    "| 2.7 | 3.0 |\n",
    "| 2.5 | 3.2 |\n",
    "\n",
    "With these data, it seeks to answer the following question: Is there a significant difference in average weight loss between people who followed the first diet and those who followed the second diet?\n",
    "\n",
    "To draw conclusions, follow the points below:\n",
    "\n",
    "- State the hypothesis: null and alternative hypothesis.\n",
    "- Perform the test to test the hypothesis. You can use a Student's t-test.\n",
    "- Analyze the conclusions."
   ]
  },
  {
   "cell_type": "markdown",
   "id": "fc453da4",
   "metadata": {},
   "source": [
    "### HIPOTESIS\n",
    "\n",
    "- Hipótesis nula (H0): Media de diet1 es igual a la media de diet2. No hay diferencia significativa entre las dos dietas.\n",
    "- Hipótesis Alternativa (H1): Media de diet1 es menor que la media de diet2 o Media de diet1 es mayor que la media de diet2."
   ]
  },
  {
   "cell_type": "code",
   "execution_count": 4,
   "id": "8e0f3cf0",
   "metadata": {},
   "outputs": [
    {
     "name": "stdout",
     "output_type": "stream",
     "text": [
      "2.542857142857143 3.0285714285714285\n",
      "t-statistic: -3.5383407969933938\n",
      "P-value: 0.002041635095856956\n",
      "There is a significant difference between the two diets\n"
     ]
    },
    {
     "data": {
      "image/png": "[encoded data removed]",
      "text/plain": [
       "<Figure size 640x480 with 1 Axes>"
      ]
     },
     "metadata": {},
     "output_type": "display_data"
    }
   ],
   "source": [
    "import numpy as np\n",
    "import scipy.stats as stats\n",
    "import matplotlib.pyplot as plt\n",
    "\n",
    "\n",
    "diet1 = [2.0, 2.5, 3.0, 2.8, 2.3, 2.7, 2.5]\n",
    "diet2 = [3.0, 3.2, 3.1, 2.9, 2.8, 3.0, 3.2]\n",
    "sample_diet1 = np.array(diet1)\n",
    "sample_diet2 = np.array(diet2)\n",
    "diet1_mean = sample_diet1.mean()\n",
    "diet2_mean = sample_diet2.mean()\n",
    "print(diet1_mean, diet2_mean)\n",
    "\n",
    "# print(diet1_mean,diet2_mean)\n",
    "# n1 = len(sample_diet1)\n",
    "# n2 = len(sample_diet2)\n",
    "# z1_score = (diet1_mean - poblational_proportion) / np.sqrt((poblational_proportion * (1 - poblational_proportion)) / n1)\n",
    "# z2_score = (diet2_mean - poblational_proportion) / np.sqrt((poblational_proportion * (1 - poblational_proportion)) / n2)\n",
    "# p1_value = 2 * (1 - stats.norm.cdf(abs(z1_score)))\n",
    "# p2_value = 2 * (1 - stats.norm.cdf(abs(z2_score)))\n",
    "\n",
    "# Compruebo si la media de diet1 es menor que diet2\n",
    "t_statistic, p_value = stats.ttest_ind(diet1, diet2, alternative = 'less')\n",
    "\n",
    "# Se comprueba que la media de diet1 es menor que diet2. El valor negativo de la t-statistic sigue indicando que es cierto\n",
    "print(f\"t-statistic: {t_statistic}\")\n",
    "#\n",
    "print(f\"P-value: {p_value}\")\n",
    "# el nivel de significación (alfa: grado de error que admitimos para aceptar o rechazar la hipótesis)\n",
    "if (p_value < 0.05):\n",
    "    print(\"There is a significant difference between the two diets\")\n",
    "else:\n",
    "    print(\"There is no significant difference between the two diets\")\n",
    "\n",
    "# print(f\"Z1-score value: {z1_score}\")\n",
    "# print(f\"P1-value: {p1_value}\")\n",
    "\n",
    "# print(f\"Z2-score value: {z2_score}\")\n",
    "# print(f\"P2-value: {p2_value}\")\n",
    "\n",
    "\n",
    "#Graficar plot\n",
    "df = len(diet1) + len(diet2) - 2  # Grados de libertad/ degree of freedom\n",
    "x = np.linspace(-4, 4, 1000)\n",
    "y = stats.t.pdf(x, df)\n",
    "\n",
    "x_stat = t_statistic\n",
    "y_stat = stats.t.pdf(x_stat, df)\n",
    "plt.plot(x,y)\n",
    "plt.plot(x_stat,y_stat, '.r')\n",
    "plt.show()"
   ]
  },
  {
   "cell_type": "markdown",
   "id": "d700224f",
   "metadata": {},
   "source": [
    "Conclusión: t-statistic al ser negativo nos indica que la media de diet1 es menor que la media de diet2 .Este valor (t-statistic) solo nos da información sobre la dirección de la diferencia, y el valor p es el que nos dice si esa diferencia es significativa o no. p_value es mucho menor que el nivel de significancia (alfa) de 0.05, esto significa que podemos rechazar la hipótesis nula y concluir que la media de diet1 es mucho menor que la media de diet2"
   ]
  },
  {
   "cell_type": "markdown",
   "id": "f432e18e",
   "metadata": {},
   "source": [
    "## ANOVA\n",
    "\n",
    "**ANOVA** (*Analysis of Variance*) is a statistical technique used to compare the measures of two or more groups. The idea behind ANOVA is to decompose the total variability in the data into two components: between-group variability and within-group variability:\n",
    "\n",
    "- **Between-group variability**: This variability refers to the differences between the group means. If this variability is considerably larger than the within-group variability, it could be an indication that at least one of the group means is different.\n",
    "- **Within-group variability**: This variability refers to the dispersion of the data within each group. If all groups have similar variability, then any noticeable difference in group means could be considered significant.\n",
    "\n",
    "Hypotheses in ANOVA typically include:\n",
    "\n",
    "- **Null hypothesis** ($H₀$): The means of all groups are equal.\n",
    "- **Alternative hypothesis** ($H₁$): At least one of the group means is different.\n",
    "\n",
    "If the ANOVA test result is significant (e.g., a p-value less than a threshold such as 0.05), this suggests that at least one group mean is different."
   ]
  },
  {
   "cell_type": "markdown",
   "id": "fc5f3721",
   "metadata": {},
   "source": [
    "## Exercise 2\n",
    "\n",
    "A farmer decides to test three different types of fertilizers to determine if one is superior in terms of corn production. The farmer plants corn on 15 identical plots and uses all three fertilizers (5 plots for each type). At the end of the season, he measures the corn yield (in kg) of each plot, with the following result:\n",
    "\n",
    "| Fertilizer 1 | Fertilizer 2 | Fertilizer 3 |\n",
    "|:-------------|:-------------|:-------------|\n",
    "| 20 | 22 | 24 |\n",
    "| 21 | 21 | 23 |\n",
    "| 20 | 23 | 22 |\n",
    "| 19 | 22 | 23 |\n",
    "| 20 | 21 | 24 |\n",
    "\n",
    "With this data, he seeks to answer the following question: Is there a significant difference in average corn yield between the three types of fertilizers?\n",
    "\n",
    "To help you, follow the points below:\n",
    "\n",
    "- State the hypothesis: null and alternative hypothesis.\n",
    "- Perform the ANOVA test.\n",
    "- Analyze the conclusions.\n",
    "- If one fertilizer is better than another, how can we know it?"
   ]
  },
  {
   "cell_type": "markdown",
   "id": "88225f3c",
   "metadata": {},
   "source": [
    "### HIPOTESIS\n",
    "\n",
    "- Hipótesis nula: Todos son iguales funcionan\n",
    "- Hipótesis alternativa: Fertilizer3 es superior. Hay diferencia entre al menos uno de los grupos"
   ]
  },
  {
   "cell_type": "code",
   "execution_count": 5,
   "id": "eecad0ca",
   "metadata": {},
   "outputs": [
    {
     "name": "stdout",
     "output_type": "stream",
     "text": [
      "20.315789473684188\n",
      "0.00014047824793190472\n",
      "There is a significant difference between one of the three fertilizer\n",
      "Multiple Comparison of Means - Tukey HSD, FWER=0.05\n",
      "==================================================\n",
      "group1 group2 meandiff p-adj  lower  upper  reject\n",
      "--------------------------------------------------\n",
      "    F1     F2      1.8 0.0099 0.4572 3.1428   True\n",
      "    F1     F3      3.2 0.0001 1.8572 4.5428   True\n",
      "    F2     F3      1.4 0.0409 0.0572 2.7428   True\n",
      "--------------------------------------------------\n"
     ]
    },
    {
     "data": {
      "image/png": "[encoded data removed]",
      "text/plain": [
       "<Figure size 800x500 with 1 Axes>"
      ]
     },
     "metadata": {},
     "output_type": "display_data"
    }
   ],
   "source": [
    "import pandas as pd\n",
    "import numpy as np\n",
    "import scipy.stats as stats\n",
    "from statsmodels.stats.multicomp import pairwise_tukeyhsd\n",
    "alfa = 0.05\n",
    "fertilizer1 = [20, 21, 20, 19, 20]\n",
    "fertilizer2 = [22, 21, 23, 22, 21]\n",
    "fertilizer3 = [24, 23, 22, 23, 24]\n",
    "F = stats.f_oneway(fertilizer1, fertilizer2, fertilizer3)\n",
    "print(F.statistic)\n",
    "print(F.pvalue)\n",
    "if (F.pvalue < 0.05):\n",
    "    print(\"There is a significant difference between one of the three fertilizer\")\n",
    "else:\n",
    "    print(\"There is no significant difference between the three fertilizer\")\n",
    "\n",
    "data = np.concatenate([fertilizer1, fertilizer2, fertilizer3])\n",
    "group = ['F1'] * 5 + ['F2'] * 5 + ['F3'] * 5\n",
    "print(pairwise_tukeyhsd(data, group, alfa))\n",
    "## Graficar boxplot\n",
    "\n",
    "plt.figure(figsize=(8,5))\n",
    "plt.boxplot([fertilizer1, fertilizer2, fertilizer3], tick_labels = ['Fertilizer 1', 'Fertilizer 2', 'Fertilizer 3'])\n",
    "plt.show()"
   ]
  },
  {
   "cell_type": "markdown",
   "id": "18a51740",
   "metadata": {},
   "source": [
    "Un valor alto de F.statistic nos indica que hay una gran diferencia entre las medias de los grupos en comparación el resto, lo que puede significar que al menos un grupo es significativamente diferente. Un valor de F.pvalue bajo nos indica que podemos rechazar la hipótesis nula, y por tanto, hay al menos un grupo que es significativamente diferente. El ANOVA solo te dice que hay una diferencia entre los grupos, pero no te dice qué grupo es diferente."
   ]
  }
 ],
 "metadata": {
  "kernelspec": {
   "display_name": "Python 3",
   "language": "python",
   "name": "python3"
  },
  "language_info": {
   "codemirror_mode": {
    "name": "ipython",
    "version": 3
   },
   "file_extension": ".py",
   "mimetype": "text/x-python",
   "name": "python",
   "nbconvert_exporter": "python",
   "pygments_lexer": "ipython3",
   "version": "3.11.4"
  }
 },
 "nbformat": 4,
 "nbformat_minor": 5
}
